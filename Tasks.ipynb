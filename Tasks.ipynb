{
  "nbformat": 4,
  "nbformat_minor": 0,
  "metadata": {
    "colab": {
      "provenance": [],
      "authorship_tag": "ABX9TyNd8Rd673VQx1ThLaQ56IR3",
      "include_colab_link": true
    },
    "kernelspec": {
      "name": "python3",
      "display_name": "Python 3"
    },
    "language_info": {
      "name": "python"
    }
  },
  "cells": [
    {
      "cell_type": "markdown",
      "metadata": {
        "id": "view-in-github",
        "colab_type": "text"
      },
      "source": [
        "<a href=\"https://colab.research.google.com/github/archanaudhaya/Datasciencetask/blob/main/Tasks.ipynb\" target=\"_parent\"><img src=\"https://colab.research.google.com/assets/colab-badge.svg\" alt=\"Open In Colab\"/></a>"
      ]
    },
    {
      "cell_type": "markdown",
      "source": [
        "Write a NumPy program to combine last element with first element of two given ndarray\n",
        "with different shapes.\n",
        "Sample Output:\n",
        "Original arrays:\n",
        "['PHP', 'JS', 'C++']\n",
        "['Python', 'C#', 'NumPy']\n",
        "After Combining:\n",
        "['PHP' 'JS' 'C++Python' 'C#' 'NumPy']"
      ],
      "metadata": {
        "id": "30xZdr8EhlEF"
      }
    },
    {
      "cell_type": "code",
      "source": [
        "import numpy as np\n",
        "\n",
        "# Given arrays\n",
        "array1 = np.array(['PHP', 'JS', 'C++'])\n",
        "array2 = np.array(['Python', 'C#', 'NumPy'])\n",
        "\n",
        "# Combine last element of array1 with the first element of array2\n",
        "combined_array = np.concatenate([array1[:-1], np.array([array1[-1] + array2[0]]), array2[1:]])\n",
        "\n",
        "# Print the original and combined arrays\n",
        "print(\"Original arrays:\")\n",
        "print(array1)\n",
        "print(array2)\n",
        "print(\"After Combining:\")\n",
        "print(combined_array)"
      ],
      "metadata": {
        "colab": {
          "base_uri": "https://localhost:8080/"
        },
        "id": "G0Bf5J-hi1R1",
        "outputId": "a075f82b-df32-4341-ea20-00f12da48cbd"
      },
      "execution_count": null,
      "outputs": [
        {
          "output_type": "stream",
          "name": "stdout",
          "text": [
            "Original arrays:\n",
            "['PHP' 'JS' 'C++']\n",
            "['Python' 'C#' 'NumPy']\n",
            "After Combining:\n",
            "['PHP' 'JS' 'C++Python' 'C#' 'NumPy']\n"
          ]
        }
      ]
    },
    {
      "cell_type": "markdown",
      "source": [
        "a. Write a NumPy program to convert an array to a float type"
      ],
      "metadata": {
        "id": "sTVq8gm_jvbQ"
      }
    },
    {
      "cell_type": "code",
      "source": [
        "import numpy as np\n",
        "\n",
        "original_array = np.array([1, 2, 3, 4, 5])\n",
        "float_array = original_array.astype(float)\n",
        "\n",
        "print(\"Original Array:\")\n",
        "print(original_array)\n",
        "print(\"Float Array:\")\n",
        "print(float_array)"
      ],
      "metadata": {
        "colab": {
          "base_uri": "https://localhost:8080/"
        },
        "id": "_Vg49AD3jxZv",
        "outputId": "c7635935-4e77-4830-d0ba-8166172835ae"
      },
      "execution_count": null,
      "outputs": [
        {
          "output_type": "stream",
          "name": "stdout",
          "text": [
            "Original Array:\n",
            "[1 2 3 4 5]\n",
            "Float Array:\n",
            "[1. 2. 3. 4. 5.]\n"
          ]
        }
      ]
    },
    {
      "cell_type": "markdown",
      "source": [
        "b. Write a NumPy program to create an empty and a full array"
      ],
      "metadata": {
        "id": "s8aMFZ_qkBX-"
      }
    },
    {
      "cell_type": "code",
      "source": [
        "import numpy as np\n",
        "\n",
        "empty_array = np.empty((3, 3))\n",
        "full_array = np.full((2, 2), 7)\n",
        "\n",
        "print(\"Empty Array:\")\n",
        "print(empty_array)\n",
        "print(\"Full Array:\")\n",
        "print(full_array)"
      ],
      "metadata": {
        "colab": {
          "base_uri": "https://localhost:8080/"
        },
        "id": "s8mC70eSkCax",
        "outputId": "6849ad5f-c159-481d-a911-63db3f7687bd"
      },
      "execution_count": null,
      "outputs": [
        {
          "output_type": "stream",
          "name": "stdout",
          "text": [
            "Empty Array:\n",
            "[[4.96776481e-310 0.00000000e+000 0.00000000e+000]\n",
            " [0.00000000e+000 0.00000000e+000 0.00000000e+000]\n",
            " [0.00000000e+000 0.00000000e+000 0.00000000e+000]]\n",
            "Full Array:\n",
            "[[7 7]\n",
            " [7 7]]\n"
          ]
        }
      ]
    },
    {
      "cell_type": "markdown",
      "source": [
        "c. Write a NumPy program to convert a list and tuple into arrays"
      ],
      "metadata": {
        "id": "ZmeOB02tkTGV"
      }
    },
    {
      "cell_type": "code",
      "source": [
        "import numpy as np\n",
        "\n",
        "list_data = [1, 2, 3, 4]\n",
        "tuple_data = ((1, 2, 3), (4, 5, 6))\n",
        "\n",
        "array_from_list = np.array(list_data)\n",
        "array_from_tuple = np.array(tuple_data)\n",
        "\n",
        "print(\"Array from List:\")\n",
        "print(array_from_list)\n",
        "print(\"Array from Tuple:\")\n",
        "print(array_from_tuple)"
      ],
      "metadata": {
        "colab": {
          "base_uri": "https://localhost:8080/"
        },
        "id": "oka4aYJPkWvV",
        "outputId": "8a4f2132-100c-4f23-e324-b347600e188b"
      },
      "execution_count": null,
      "outputs": [
        {
          "output_type": "stream",
          "name": "stdout",
          "text": [
            "Array from List:\n",
            "[1 2 3 4]\n",
            "Array from Tuple:\n",
            "[[1 2 3]\n",
            " [4 5 6]]\n"
          ]
        }
      ]
    },
    {
      "cell_type": "markdown",
      "source": [
        "d. Write a NumPy program to find the real and imaginary parts of an array of complex numbers"
      ],
      "metadata": {
        "id": "F1qiK_8bkr3j"
      }
    },
    {
      "cell_type": "code",
      "source": [
        "import numpy as np\n",
        "\n",
        "complex_array = np.array([1 + 2j, 3 + 4j, 5 + 6j])\n",
        "\n",
        "real_parts = np.real(complex_array)\n",
        "imaginary_parts = np.imag(complex_array)\n",
        "\n",
        "print(\"Complex Array:\")\n",
        "print(complex_array)\n",
        "print(\"Real Parts:\")\n",
        "print(real_parts)\n",
        "print(\"Imaginary Parts:\")\n",
        "print(imaginary_parts)"
      ],
      "metadata": {
        "colab": {
          "base_uri": "https://localhost:8080/"
        },
        "id": "zTEAKpnvktVG",
        "outputId": "85adb8e6-8e25-49e8-ba5f-94f08184c5b7"
      },
      "execution_count": null,
      "outputs": [
        {
          "output_type": "stream",
          "name": "stdout",
          "text": [
            "Complex Array:\n",
            "[1.+2.j 3.+4.j 5.+6.j]\n",
            "Real Parts:\n",
            "[1. 3. 5.]\n",
            "Imaginary Parts:\n",
            "[2. 4. 6.]\n"
          ]
        }
      ]
    },
    {
      "cell_type": "markdown",
      "source": [
        "i. Use NumPy , Create an array with 5 dimensions and verify that it has 5 dimensions"
      ],
      "metadata": {
        "id": "mLTXHmFuloJI"
      }
    },
    {
      "cell_type": "code",
      "source": [
        "import numpy as np\n",
        "\n",
        "# Create a 5-dimensional array\n",
        "array_5d = np.random.random((2, 3, 4, 5, 6))\n",
        "\n",
        "# Verify the number of dimensions\n",
        "num_dimensions = array_5d.ndim\n",
        "\n",
        "print(\"Array with 5 Dimensions:\")\n",
        "print(array_5d)\n",
        "print(f\"Number of Dimensions: {num_dimensions}\")"
      ],
      "metadata": {
        "colab": {
          "base_uri": "https://localhost:8080/"
        },
        "id": "nY6koQu2lp2n",
        "outputId": "b6ad1004-fc9f-49a3-c615-d0aa400286ea"
      },
      "execution_count": null,
      "outputs": [
        {
          "output_type": "stream",
          "name": "stdout",
          "text": [
            "Array with 5 Dimensions:\n",
            "[[[[[8.12982945e-01 7.79033579e-01 1.73008450e-01 3.86198584e-01\n",
            "     1.63870486e-01 3.36866449e-01]\n",
            "    [8.75085027e-01 9.90740220e-01 6.24928257e-01 4.84202287e-02\n",
            "     5.04365564e-01 8.57330992e-01]\n",
            "    [1.20142566e-01 3.28815024e-01 1.88015960e-02 7.99603642e-01\n",
            "     3.25916916e-01 2.12972235e-01]\n",
            "    [9.98182383e-01 1.30526261e-01 8.06443610e-02 2.59484941e-01\n",
            "     4.61328527e-01 7.74553948e-01]\n",
            "    [8.39298786e-01 7.66310198e-01 9.71169407e-01 4.80236804e-02\n",
            "     9.97396599e-01 1.36279112e-01]]\n",
            "\n",
            "   [[4.50328540e-01 5.22620393e-01 7.57120952e-01 7.55256964e-01\n",
            "     3.98525355e-01 4.74004488e-01]\n",
            "    [7.31530795e-01 7.77216641e-02 1.47798794e-01 5.97096167e-01\n",
            "     6.41826649e-01 8.51957613e-02]\n",
            "    [9.82180150e-01 7.56097931e-01 6.62647458e-01 9.53148823e-01\n",
            "     2.08366327e-01 9.55246569e-01]\n",
            "    [8.94445469e-01 8.66644176e-04 2.46157601e-01 6.25295609e-01\n",
            "     8.96880074e-01 3.89166813e-01]\n",
            "    [8.98977847e-01 1.46094517e-01 1.09285213e-01 1.03222213e-01\n",
            "     3.61133531e-01 8.05262323e-01]]\n",
            "\n",
            "   [[6.30462010e-01 3.43440339e-01 4.70711223e-01 3.21960270e-01\n",
            "     3.52845809e-01 5.01262535e-01]\n",
            "    [4.41142137e-01 7.84430068e-01 9.60825831e-01 6.09826799e-01\n",
            "     2.78142103e-01 4.80334058e-01]\n",
            "    [1.40541386e-01 7.46175789e-02 4.19051777e-01 9.88719274e-01\n",
            "     4.40008438e-01 9.74835203e-01]\n",
            "    [4.29741957e-01 1.85967360e-01 1.38776164e-01 5.52101357e-01\n",
            "     1.40727186e-01 6.60899756e-01]\n",
            "    [6.78954460e-01 4.63431217e-01 7.28115686e-02 5.68028077e-01\n",
            "     8.56043792e-02 6.39884014e-01]]\n",
            "\n",
            "   [[8.69990413e-01 2.80232458e-01 1.29126483e-01 1.23298289e-01\n",
            "     9.59260709e-01 8.75919009e-01]\n",
            "    [8.00271456e-01 1.45596974e-01 7.21953744e-01 4.53305016e-01\n",
            "     4.89499733e-01 2.94454146e-01]\n",
            "    [2.96801316e-01 3.97509957e-01 6.51979758e-01 6.45865199e-01\n",
            "     4.40695584e-01 2.01619659e-01]\n",
            "    [7.39239422e-01 2.26638814e-01 5.18199599e-02 9.02516484e-01\n",
            "     8.05243470e-02 5.77087671e-01]\n",
            "    [7.97413215e-01 8.90365887e-01 5.00682524e-01 4.55340735e-01\n",
            "     7.45567404e-01 3.75028092e-01]]]\n",
            "\n",
            "\n",
            "  [[[9.78039839e-01 6.74683841e-01 8.40746850e-01 1.57059747e-01\n",
            "     2.73252622e-01 9.50747011e-01]\n",
            "    [5.92898577e-01 6.22216726e-02 5.40636352e-01 7.52872841e-02\n",
            "     1.80586423e-01 7.23982811e-01]\n",
            "    [4.20326197e-01 7.24296305e-01 4.73860683e-01 9.63894121e-01\n",
            "     9.56195057e-01 4.03085649e-02]\n",
            "    [9.75427081e-01 7.67292547e-01 5.66415455e-01 4.59326638e-01\n",
            "     4.74220234e-01 4.33389630e-02]\n",
            "    [9.65565195e-01 9.53402921e-01 8.43288987e-01 4.79357811e-01\n",
            "     3.95082541e-01 1.96362063e-01]]\n",
            "\n",
            "   [[5.54687983e-01 4.14596813e-01 2.92548324e-01 9.51489423e-01\n",
            "     6.34948410e-01 7.28603205e-01]\n",
            "    [2.22674369e-01 7.32683975e-02 7.44424452e-01 2.39072351e-01\n",
            "     7.88053607e-01 8.51791084e-01]\n",
            "    [8.37395116e-01 8.20938851e-01 6.42943932e-01 2.97846984e-02\n",
            "     9.54597849e-01 3.91025471e-01]\n",
            "    [9.23992790e-02 3.13698196e-01 7.90250917e-01 8.05072331e-01\n",
            "     1.81231259e-01 9.08802808e-02]\n",
            "    [6.36555904e-01 7.33607399e-01 8.54996852e-01 8.91001006e-01\n",
            "     9.58964165e-01 1.41499103e-01]]\n",
            "\n",
            "   [[8.34543811e-01 1.20755471e-01 8.47191530e-01 9.23770538e-01\n",
            "     6.36384068e-01 2.35599986e-01]\n",
            "    [7.01327151e-01 6.07208337e-01 7.89358936e-01 5.44751022e-01\n",
            "     3.91720843e-01 8.23975820e-01]\n",
            "    [4.87256888e-01 2.39074324e-01 4.60689011e-01 8.04367854e-01\n",
            "     7.08773741e-01 4.15361930e-01]\n",
            "    [6.37538367e-01 5.28414430e-01 7.07834668e-01 3.10565971e-01\n",
            "     1.74994053e-01 5.55731047e-01]\n",
            "    [6.20765269e-02 2.73476959e-01 1.98540024e-02 7.56133513e-01\n",
            "     1.17532230e-01 6.24360910e-01]]\n",
            "\n",
            "   [[5.40787525e-01 6.13749990e-01 8.00968070e-01 6.03169459e-01\n",
            "     5.87038006e-01 9.74398087e-01]\n",
            "    [8.09270928e-01 9.23350709e-01 9.71712091e-01 2.08351079e-01\n",
            "     3.15653017e-01 7.06227811e-01]\n",
            "    [8.18494378e-01 5.61641864e-01 8.48928589e-01 4.25954126e-01\n",
            "     7.15259112e-01 8.02357048e-01]\n",
            "    [9.24358432e-01 8.82244823e-01 5.39487841e-01 5.41645432e-01\n",
            "     5.92072836e-01 4.01085554e-01]\n",
            "    [5.02144676e-02 3.45036683e-02 3.19828244e-01 1.00095406e-01\n",
            "     4.07900441e-01 9.15228023e-01]]]\n",
            "\n",
            "\n",
            "  [[[6.49521914e-01 4.92955967e-01 9.55721369e-01 5.22347787e-01\n",
            "     8.53183706e-01 7.92286098e-01]\n",
            "    [2.46333499e-01 2.55767232e-01 5.32969640e-01 7.25122036e-02\n",
            "     8.20965749e-01 9.63556018e-01]\n",
            "    [8.93012988e-01 9.72119696e-02 1.63559076e-02 3.88020168e-01\n",
            "     7.63260823e-01 9.46928277e-01]\n",
            "    [5.49647284e-01 7.32535395e-01 2.56197204e-01 1.48560116e-01\n",
            "     1.25093055e-01 5.26731012e-01]\n",
            "    [4.93177580e-02 4.67607491e-01 7.07810154e-01 3.62329069e-01\n",
            "     9.16389454e-01 8.37875831e-01]]\n",
            "\n",
            "   [[6.03563379e-01 9.78457364e-01 1.81059337e-01 6.91041765e-01\n",
            "     9.04883279e-01 6.74095647e-01]\n",
            "    [9.33454193e-01 7.10540160e-01 8.75701768e-01 6.38375997e-01\n",
            "     8.53963620e-01 3.91088103e-01]\n",
            "    [4.14422875e-01 7.84893730e-01 8.24505609e-01 1.27403209e-01\n",
            "     4.02208593e-02 4.60051325e-01]\n",
            "    [2.93835065e-01 4.29794870e-01 3.40604345e-01 7.29653031e-01\n",
            "     1.08026606e-01 4.38919003e-01]\n",
            "    [3.55259472e-01 7.21940298e-01 5.32693351e-01 3.37028430e-01\n",
            "     6.08228398e-01 1.36045714e-01]]\n",
            "\n",
            "   [[5.91920319e-01 4.98426112e-01 2.52733840e-01 9.30800750e-01\n",
            "     7.89444330e-01 2.43726798e-01]\n",
            "    [3.44231553e-01 2.79719847e-01 4.05697299e-01 5.02408805e-02\n",
            "     6.84703777e-02 4.26558182e-01]\n",
            "    [2.24338479e-01 5.66779732e-01 3.97165986e-01 3.08891199e-01\n",
            "     2.75547129e-01 5.52045003e-01]\n",
            "    [3.61226261e-01 9.46230066e-01 1.16105685e-01 5.54646239e-01\n",
            "     4.01306198e-01 3.11140245e-01]\n",
            "    [1.39235877e-01 7.67275131e-02 8.03428187e-01 7.66248146e-01\n",
            "     7.06677328e-01 8.38354875e-01]]\n",
            "\n",
            "   [[3.31736226e-02 8.56944417e-01 3.61138923e-01 3.03467558e-01\n",
            "     9.11923501e-01 9.16597885e-01]\n",
            "    [5.03536015e-01 4.78831602e-01 9.96888301e-02 6.49059424e-01\n",
            "     9.85661069e-01 1.09826381e-01]\n",
            "    [8.07079348e-01 5.34561450e-01 3.15713669e-01 7.88924852e-01\n",
            "     4.31688008e-02 8.56206405e-01]\n",
            "    [6.10100118e-01 1.30717680e-01 6.82394372e-01 3.89452093e-01\n",
            "     9.47527043e-02 3.04921065e-01]\n",
            "    [9.56248690e-01 2.30904844e-01 6.06106645e-01 8.77695309e-01\n",
            "     6.21995454e-01 1.54431782e-01]]]]\n",
            "\n",
            "\n",
            "\n",
            " [[[[2.42253849e-01 3.55456533e-01 6.42778242e-01 9.78860227e-01\n",
            "     9.45319172e-01 5.29679647e-01]\n",
            "    [7.75490463e-01 5.30353434e-01 7.21559684e-01 7.64484015e-01\n",
            "     1.87980638e-01 3.90039919e-01]\n",
            "    [1.62817375e-01 7.13354189e-01 6.29138957e-01 8.64737712e-01\n",
            "     1.76151032e-01 8.64197699e-01]\n",
            "    [9.60835703e-01 2.04398108e-01 9.63987472e-01 1.36153781e-01\n",
            "     1.69991757e-01 6.63861739e-01]\n",
            "    [2.70070117e-01 4.14552364e-01 2.63675256e-01 8.13632325e-01\n",
            "     6.89176499e-01 6.10581500e-01]]\n",
            "\n",
            "   [[5.04534499e-01 7.53911198e-02 6.62766795e-01 1.12788609e-01\n",
            "     2.88143817e-01 6.84074086e-01]\n",
            "    [6.38296700e-01 7.41555754e-01 9.27192760e-01 6.08403082e-01\n",
            "     6.84991574e-01 1.08547950e-01]\n",
            "    [6.63229148e-01 6.55988835e-01 3.95646291e-01 5.49083806e-01\n",
            "     9.17124790e-01 7.45647652e-02]\n",
            "    [7.44980723e-01 1.53865970e-01 3.03543310e-01 4.51903881e-01\n",
            "     4.34191151e-01 5.38384911e-02]\n",
            "    [4.71194354e-01 2.65710585e-01 1.97152202e-01 8.47969760e-01\n",
            "     8.85181975e-01 5.03357572e-01]]\n",
            "\n",
            "   [[8.60537778e-01 8.70303254e-01 8.45395354e-01 1.02008756e-01\n",
            "     3.52868511e-01 6.34404685e-01]\n",
            "    [8.80218772e-01 2.40446300e-01 5.67467767e-01 1.15330809e-01\n",
            "     5.92517063e-01 7.43214501e-01]\n",
            "    [6.92818387e-01 8.55560530e-01 6.08567388e-04 7.78150991e-01\n",
            "     6.34821210e-01 8.84860201e-01]\n",
            "    [3.16821487e-01 2.57570346e-01 9.07784733e-01 8.82280256e-02\n",
            "     6.72772661e-01 5.13968579e-01]\n",
            "    [2.13425552e-02 1.84566317e-01 3.85400909e-02 8.46889509e-01\n",
            "     7.65207799e-01 8.28051141e-01]]\n",
            "\n",
            "   [[1.97614270e-01 7.67278706e-01 6.02304385e-01 8.90914454e-01\n",
            "     8.68020110e-01 8.88103782e-01]\n",
            "    [4.41037845e-01 8.61279734e-01 4.99873621e-01 6.54990608e-01\n",
            "     5.85298458e-01 7.40466182e-02]\n",
            "    [1.38945365e-01 7.89485915e-01 1.97062736e-01 2.18804051e-01\n",
            "     6.08010093e-01 6.88165370e-01]\n",
            "    [2.31751414e-01 4.08762660e-01 3.61548956e-02 4.31968966e-01\n",
            "     6.89691643e-01 8.93977535e-01]\n",
            "    [5.91721072e-01 1.13483980e-01 4.88988343e-01 7.20153891e-01\n",
            "     2.89817819e-01 6.46242065e-01]]]\n",
            "\n",
            "\n",
            "  [[[3.46517170e-01 9.06969162e-01 1.00295477e-02 3.44243616e-01\n",
            "     1.80782463e-02 4.73255803e-02]\n",
            "    [9.21021064e-01 1.47904909e-01 8.13909005e-02 6.25989800e-01\n",
            "     7.61593205e-01 9.55852617e-01]\n",
            "    [5.91816165e-02 5.09333189e-01 3.86124461e-01 2.27548457e-02\n",
            "     1.34067938e-01 8.91430997e-01]\n",
            "    [6.92565358e-01 3.64001505e-01 7.77990528e-01 5.84181389e-01\n",
            "     1.80757136e-02 8.59306847e-01]\n",
            "    [5.53240687e-01 5.60490340e-01 6.81808359e-01 9.07452821e-01\n",
            "     1.51210085e-01 5.28562906e-01]]\n",
            "\n",
            "   [[7.34687460e-01 6.47016410e-01 3.80584101e-01 5.20304176e-01\n",
            "     4.82914374e-01 5.39677630e-01]\n",
            "    [5.68699766e-01 8.70518005e-01 7.11451331e-02 1.64871952e-02\n",
            "     6.27818614e-01 6.24378930e-01]\n",
            "    [5.90465605e-01 7.22622294e-01 1.21074847e-02 4.15610167e-01\n",
            "     4.13442906e-01 9.97952179e-01]\n",
            "    [2.75106268e-01 4.44026613e-01 1.10752441e-01 4.01428446e-01\n",
            "     3.46904454e-01 8.97453392e-01]\n",
            "    [7.84535427e-01 2.33404707e-01 4.08490810e-01 5.90773565e-01\n",
            "     6.15969618e-01 5.17008072e-01]]\n",
            "\n",
            "   [[1.33407015e-01 3.73888628e-01 7.18636437e-01 7.89633481e-01\n",
            "     4.58196594e-01 6.66736378e-01]\n",
            "    [4.38157090e-01 3.69198247e-01 3.81599256e-01 5.53602545e-01\n",
            "     8.29147491e-01 1.93459198e-01]\n",
            "    [7.10169357e-01 2.32017294e-01 3.51835901e-01 1.15630475e-01\n",
            "     4.74593707e-01 7.65054735e-01]\n",
            "    [1.02312671e-01 6.95791237e-01 7.10584854e-01 9.90319950e-01\n",
            "     8.15823979e-01 1.06762608e-01]\n",
            "    [7.43207231e-01 3.01291199e-01 1.16970561e-01 5.60973219e-01\n",
            "     7.75529409e-01 8.61870788e-01]]\n",
            "\n",
            "   [[6.85287897e-03 6.30943320e-01 7.89794781e-02 9.77478710e-01\n",
            "     4.67512895e-01 1.80368726e-01]\n",
            "    [1.17961978e-01 6.86380476e-01 6.54227622e-01 5.47234143e-02\n",
            "     1.84979468e-01 4.26438860e-01]\n",
            "    [4.34948230e-01 5.96586773e-01 8.67320511e-01 3.01442139e-01\n",
            "     2.38072524e-01 8.09119265e-01]\n",
            "    [9.52859716e-01 7.34932939e-01 5.32642600e-01 7.59456788e-01\n",
            "     1.61176998e-01 2.31756302e-01]\n",
            "    [7.86602232e-01 6.91940954e-01 2.22506446e-01 8.49037767e-01\n",
            "     2.73910641e-01 1.24974719e-01]]]\n",
            "\n",
            "\n",
            "  [[[7.61345251e-01 9.67654459e-01 3.03594340e-01 9.54915831e-02\n",
            "     8.31741447e-01 1.86225021e-01]\n",
            "    [4.39602495e-01 6.72493842e-01 7.77928669e-01 1.17164851e-01\n",
            "     4.22787245e-01 5.61616336e-01]\n",
            "    [3.39586838e-01 7.73669492e-01 9.01116533e-01 9.24061723e-01\n",
            "     5.18299464e-02 6.20052241e-01]\n",
            "    [1.40078156e-01 9.27101707e-01 2.42869870e-01 1.62669316e-01\n",
            "     5.98844408e-01 7.69543919e-01]\n",
            "    [2.48399070e-01 1.06490586e-01 6.92077350e-01 8.23522557e-01\n",
            "     4.37063393e-01 4.52330770e-01]]\n",
            "\n",
            "   [[6.66891638e-02 3.67672671e-01 7.50706545e-01 9.22084728e-01\n",
            "     5.92122707e-01 7.03707079e-01]\n",
            "    [9.17766304e-01 3.83320007e-01 1.38848727e-01 3.92965646e-01\n",
            "     2.59766125e-01 6.69817683e-01]\n",
            "    [4.15128440e-02 9.59956296e-01 7.07121528e-01 5.84585388e-01\n",
            "     3.83023700e-02 2.68898164e-01]\n",
            "    [7.15618527e-01 9.52261319e-01 6.53492751e-01 3.24208827e-01\n",
            "     6.44523836e-01 2.23934375e-01]\n",
            "    [5.02763295e-01 5.38047595e-01 8.66252960e-01 8.79387821e-01\n",
            "     5.87094100e-01 3.11307503e-01]]\n",
            "\n",
            "   [[4.14650558e-01 9.57165906e-02 7.94086397e-01 6.53150483e-01\n",
            "     5.31683382e-01 8.70567714e-01]\n",
            "    [4.36599960e-01 7.96811836e-02 4.10486418e-01 9.63781208e-01\n",
            "     1.19031572e-01 7.33185668e-01]\n",
            "    [6.42668721e-01 4.56014194e-01 8.41022075e-02 1.32663615e-01\n",
            "     4.53335964e-01 5.59440702e-02]\n",
            "    [9.83118338e-01 2.18470656e-01 1.34157277e-01 7.76012787e-01\n",
            "     2.43671469e-01 4.60315163e-01]\n",
            "    [1.88196037e-01 2.65076838e-01 1.94872260e-01 2.42774539e-01\n",
            "     3.29995526e-01 8.95147534e-01]]\n",
            "\n",
            "   [[5.57403151e-01 3.48461758e-01 4.84052674e-01 3.29860109e-01\n",
            "     1.21072514e-02 5.19376335e-01]\n",
            "    [6.58872493e-01 8.61258602e-01 9.79516539e-01 5.81286155e-02\n",
            "     5.76699581e-01 6.39345657e-01]\n",
            "    [2.65821870e-01 2.73074046e-01 8.04610069e-01 7.24644150e-01\n",
            "     1.82958139e-02 2.88263749e-01]\n",
            "    [8.95670302e-01 3.79790639e-01 8.27468362e-01 3.61772131e-01\n",
            "     2.92679626e-01 5.77582708e-01]\n",
            "    [3.94490109e-01 8.30802500e-01 8.25420912e-01 9.87718205e-01\n",
            "     4.45063967e-01 9.13796950e-01]]]]]\n",
            "Number of Dimensions: 5\n"
          ]
        }
      ]
    },
    {
      "cell_type": "markdown",
      "source": [
        "ii. Using NumPy, Sort a boolean array"
      ],
      "metadata": {
        "id": "6MqXYYf7mP9J"
      }
    },
    {
      "cell_type": "code",
      "source": [
        "import numpy as np\n",
        "\n",
        "# Create a boolean array\n",
        "boolean_array = np.array([True, False, True, False, True])\n",
        "\n",
        "# Sort the boolean array\n",
        "sorted_boolean_array = np.sort(boolean_array)\n",
        "\n",
        "print(\"Original Boolean Array:\")\n",
        "print(boolean_array)\n",
        "print(\"Sorted Boolean Array:\")\n",
        "print(sorted_boolean_array)"
      ],
      "metadata": {
        "colab": {
          "base_uri": "https://localhost:8080/"
        },
        "id": "xFgnttAjmRAd",
        "outputId": "4e246677-f861-4a98-8ca0-b64263c0f96c"
      },
      "execution_count": null,
      "outputs": [
        {
          "output_type": "stream",
          "name": "stdout",
          "text": [
            "Original Boolean Array:\n",
            "[ True False  True False  True]\n",
            "Sorted Boolean Array:\n",
            "[False False  True  True  True]\n"
          ]
        }
      ]
    },
    {
      "cell_type": "markdown",
      "source": [
        "i. Write a NumPy program to find the real and imaginary parts of an array of complex numbers"
      ],
      "metadata": {
        "id": "1K02WKRpm4ti"
      }
    },
    {
      "cell_type": "code",
      "source": [
        "import numpy as np\n",
        "\n",
        "# Create an array of complex numbers\n",
        "complex_array = np.array([1 + 2j, 3 - 4j, 5 + 6j])\n",
        "\n",
        "# Find the real and imaginary parts\n",
        "real_parts = np.real(complex_array)\n",
        "imaginary_parts = np.imag(complex_array)\n",
        "\n",
        "print(\"Complex Array:\")\n",
        "print(complex_array)\n",
        "print(\"Real Parts:\")\n",
        "print(real_parts)\n",
        "print(\"Imaginary Parts:\")\n",
        "print(imaginary_parts)"
      ],
      "metadata": {
        "colab": {
          "base_uri": "https://localhost:8080/"
        },
        "id": "BlkFHKO1m7H3",
        "outputId": "899e130f-707e-40bc-c7ff-0f58db820614"
      },
      "execution_count": null,
      "outputs": [
        {
          "output_type": "stream",
          "name": "stdout",
          "text": [
            "Complex Array:\n",
            "[1.+2.j 3.-4.j 5.+6.j]\n",
            "Real Parts:\n",
            "[1. 3. 5.]\n",
            "Imaginary Parts:\n",
            "[ 2. -4.  6.]\n"
          ]
        }
      ]
    },
    {
      "cell_type": "markdown",
      "source": [
        "ii. Write a NumPy program to convert a NumPy array into a csv file"
      ],
      "metadata": {
        "id": "PZbbbUrPnZ7h"
      }
    },
    {
      "cell_type": "code",
      "source": [
        "import numpy as np\n",
        "\n",
        "# Create a NumPy array\n",
        "my_array = np.array([[1, 2, 3], [4, 5, 6], [7, 8, 9]])\n",
        "\n",
        "# Specify the file path\n",
        "csv_file_path = \"my_array.csv\"\n",
        "\n",
        "# Save the NumPy array to a CSV file\n",
        "np.savetxt(csv_file_path, my_array, delimiter=\",\")\n",
        "\n",
        "print(f\"NumPy array has been saved to {csv_file_path}.\")"
      ],
      "metadata": {
        "colab": {
          "base_uri": "https://localhost:8080/"
        },
        "id": "JGY_StJDnboQ",
        "outputId": "fcb64558-1808-45bf-9287-bf4c21bcab2f"
      },
      "execution_count": null,
      "outputs": [
        {
          "output_type": "stream",
          "name": "stdout",
          "text": [
            "NumPy array has been saved to my_array.csv.\n"
          ]
        }
      ]
    },
    {
      "cell_type": "markdown",
      "source": [],
      "metadata": {
        "id": "cf4ZlCFfYC2g"
      }
    },
    {
      "cell_type": "markdown",
      "source": [
        "Write a NumPy program to search the index of a given array in another given array. Sample Output:\n",
        "Original NumPy array:\n",
        "[[ 1 2 3]\n",
        "[ 4 5 6]\n",
        "[ 7 8 9]\n",
        "[10 11 12]]\n",
        "Searched array:\n",
        "[4 5 6]\n",
        "Index of the searched array in the original array:\n",
        "[1]"
      ],
      "metadata": {
        "id": "qUHFNBEDYEm6"
      }
    },
    {
      "cell_type": "code",
      "source": [
        "\n",
        "import numpy as np\n",
        "\n",
        "# Original NumPy array\n",
        "original_array = np.array([[1, 2, 3], [4, 5, 6], [7, 8, 9], [10, 11, 12]])\n",
        "\n",
        "# Searched array\n",
        "searched_array = np.array([4, 5, 6])\n",
        "\n",
        "# Find the index of the searched array in the original array\n",
        "index = np.where(np.all(original_array == searched_array, axis=1))[0]\n",
        "\n",
        "# Print the original and searched arrays along with the index\n",
        "print(\"Original NumPy array:\")\n",
        "print(original_array)\n",
        "print(\"Searched array:\")\n",
        "print(searched_array)\n",
        "print(\"Index of the searched array in the original array:\", index)"
      ],
      "metadata": {
        "colab": {
          "base_uri": "https://localhost:8080/"
        },
        "id": "dAfnbfQ3YKtH",
        "outputId": "6f4c6384-a829-4b70-b097-67cdc477a5d1"
      },
      "execution_count": 29,
      "outputs": [
        {
          "output_type": "stream",
          "name": "stdout",
          "text": [
            "Original NumPy array:\n",
            "[[ 1  2  3]\n",
            " [ 4  5  6]\n",
            " [ 7  8  9]\n",
            " [10 11 12]]\n",
            "Searched array:\n",
            "[4 5 6]\n",
            "Index of the searched array in the original array: [1]\n"
          ]
        }
      ]
    },
    {
      "cell_type": "markdown",
      "source": [
        "Write a Pandas program to select the rows where the number of attempts in the examination is\n",
        "greater than 2. Sample Python dictionary data and list labels:\n",
        "exam_data = {'name': ['Anastasia', 'Dima', 'Katherine', 'James', 'Emily', 'Michael', 'Matthew', 'Laura',\n",
        "'Kevin', 'Jonas'],\n",
        "'score': [12.5, 9, 16.5, np.nan, 9, 20, 14.5, np.nan, 8, 19],\n",
        "'attempts': [1, 3, 2, 3, 2, 3, 1, 1, 2, 1],\n",
        "'qualify': ['yes', 'no', 'yes', 'no', 'no', 'yes', 'yes', 'no', 'no', 'yes']}\n",
        "labels = ['a', 'b', 'c', 'd', 'e', 'f', 'g', 'h', 'i', 'j']\n",
        "Expected Output:\n",
        "Number of attempts in the examination is greater than 2:\n",
        "name score attempts qualify\n",
        "b Dima 9.0 3 no\n",
        "d James NaN 3 no\n",
        "f Michael 20.0 3 yes"
      ],
      "metadata": {
        "id": "fqK7feinYykg"
      }
    },
    {
      "cell_type": "code",
      "source": [
        "\n",
        "import pandas as pd\n",
        "import numpy as np\n",
        "\n",
        "# Sample Python dictionary data\n",
        "exam_data = {\n",
        "    'name': ['Anastasia', 'Dima', 'Katherine', 'James', 'Emily', 'Michael', 'Matthew', 'Laura', 'Kevin', 'Jonas'],\n",
        "    'score': [12.5, 9, 16.5, np.nan, 9, 20, 14.5, np.nan, 8, 19],\n",
        "    'attempts': [1, 3, 2, 3, 2, 3, 1, 1, 2, 1],\n",
        "    'qualify': ['yes', 'no', 'yes', 'no', 'no', 'yes', 'yes', 'no', 'no', 'yes']\n",
        "}\n",
        "\n",
        "# List labels\n",
        "labels = ['a', 'b', 'c', 'd', 'e', 'f', 'g', 'h', 'i', 'j']\n",
        "\n",
        "# Create a DataFrame\n",
        "df = pd.DataFrame(exam_data, index=labels)\n",
        "\n",
        "# Select rows where the number of attempts is greater than 2\n",
        "result = df[df['attempts'] > 2]\n",
        "\n",
        "# Display the result\n",
        "print(\"Number of attempts in the examination is greater than 2:\")\n",
        "print(result)"
      ],
      "metadata": {
        "colab": {
          "base_uri": "https://localhost:8080/"
        },
        "id": "R8FzzcPIY0e5",
        "outputId": "79722fe8-ee34-4b8b-f31b-e385e88a65d0"
      },
      "execution_count": 30,
      "outputs": [
        {
          "output_type": "stream",
          "name": "stdout",
          "text": [
            "Number of attempts in the examination is greater than 2:\n",
            "      name  score  attempts qualify\n",
            "b     Dima    9.0         3      no\n",
            "d    James    NaN         3      no\n",
            "f  Michael   20.0         3     yes\n"
          ]
        }
      ]
    }
  ]
}